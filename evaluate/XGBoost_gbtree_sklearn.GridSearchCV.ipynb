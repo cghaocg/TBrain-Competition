{
 "cells": [
  {
   "cell_type": "code",
   "execution_count": 1,
   "metadata": {},
   "outputs": [],
   "source": [
    "import numpy as np\n",
    "import pandas as pd\n",
    "import tensorflow as tf\n",
    "import matplotlib.pyplot as plt\n",
    "import scipy\n",
    "import pickle\n",
    "import xgboost as xgb\n",
    "from sklearn.model_selection import train_test_split, GridSearchCV\n",
    "from sklearn.metrics import mean_squared_error\n",
    "from sklearn.utils import shuffle\n",
    "from sklearn import preprocessing\n",
    "from matplotlib import pyplot\n",
    "from time import time, strftime, localtime"
   ]
  },
  {
   "cell_type": "code",
   "execution_count": 3,
   "metadata": {},
   "outputs": [],
   "source": [
    "### Load data\n",
    "train_df = pd.read_csv(\"../dataset/train.csv\")\n",
    "test_df = pd.read_csv(\"../dataset/test.csv\")\n",
    "submit_test_df = pd.read_csv(\"../dataset/submit_test.csv\")"
   ]
  },
  {
   "cell_type": "code",
   "execution_count": 4,
   "metadata": {},
   "outputs": [],
   "source": [
    "### Split data\n",
    "train_fillna_df = train_df.iloc[:,1:-1].fillna(value=0.0)\n",
    "test_fillna_df = test_df.iloc[:,1:].fillna(value=0.0)\n",
    "all_fillna_df = pd.concat((train_fillna_df, test_fillna_df), axis = 0)\n",
    "\n",
    "label_name = \"total_price\"\n",
    "label_df = pd.DataFrame(train_df[label_name])"
   ]
  },
  {
   "cell_type": "code",
   "execution_count": 6,
   "metadata": {},
   "outputs": [
    {
     "name": "stdout",
     "output_type": "stream",
     "text": [
      "(53628, 234)\n",
      "(48649, 234)\n",
      "(44883, 234)\n",
      "(44349, 234)\n",
      "(43358, 234)\n",
      "(41175, 234)\n",
      "label_remove_outliers_df.shape: (41175, 1)\n",
      "train_remove_outlier_df.shape: (41175, 233)\n"
     ]
    }
   ],
   "source": [
    "### Remove outliers\n",
    "train_remove_outlier_df = pd.concat((train_fillna_df, label_df), axis=1)\n",
    "#train_remove_outlier_df = train_remove_outlier_df[train_fillna_df.total_floor <= 16]\n",
    "#print(train_remove_outlier_df.shape)\n",
    "#train_remove_outlier_df = train_remove_outlier_df[train_remove_outlier_df.txn_floor <= 12]\n",
    "#print(train_remove_outlier_df.shape)\n",
    "train_remove_outlier_df = train_remove_outlier_df[train_remove_outlier_df.building_material > 2]\n",
    "print(train_remove_outlier_df.shape)\n",
    "train_remove_outlier_df = train_remove_outlier_df[train_remove_outlier_df.building_use <= 4]\n",
    "print(train_remove_outlier_df.shape)\n",
    "train_remove_outlier_df = train_remove_outlier_df[train_remove_outlier_df.village_income_median != 0]\n",
    "train_remove_outlier_df = train_remove_outlier_df[train_remove_outlier_df.village_income_median <= 900]\n",
    "print(train_remove_outlier_df.shape)\n",
    "train_remove_outlier_df = train_remove_outlier_df[train_remove_outlier_df.town_area <= 150]\n",
    "print(train_remove_outlier_df.shape)\n",
    "train_remove_outlier_df = train_remove_outlier_df[train_remove_outlier_df.town_population_density <= 35000]\n",
    "print(train_remove_outlier_df.shape)\n",
    "train_remove_outlier_df = train_remove_outlier_df[train_remove_outlier_df.death_rate <= 8]\n",
    "print(train_remove_outlier_df.shape) #8\n",
    "\n",
    "### Split x and y\n",
    "label_remove_outliers_df = pd.DataFrame(train_remove_outlier_df[label_name])\n",
    "train_remove_outlier_df = train_remove_outlier_df.iloc[:,:-1]\n",
    "print(\"label_remove_outliers_df.shape:\", label_remove_outliers_df.shape)\n",
    "print(\"train_remove_outlier_df.shape:\", train_remove_outlier_df.shape)"
   ]
  },
  {
   "cell_type": "code",
   "execution_count": 7,
   "metadata": {},
   "outputs": [],
   "source": [
    "### Drop no need features\n",
    "train_drop_df = train_remove_outlier_df.drop(\n",
    "   [\"town\", \"village\", \"parking_area\", \"parking_price\", \"land_area\", \"building_area\"], axis=1)\n",
    "test_drop_df = test_fillna_df.drop(\n",
    "   [\"town\", \"village\", \"parking_area\", \"parking_price\", \"land_area\", \"building_area\"], axis=1)"
   ]
  },
  {
   "cell_type": "code",
   "execution_count": 8,
   "metadata": {},
   "outputs": [],
   "source": [
    "# [No-ohe version]\n",
    "### min max scalar\n",
    "# preserve \"column name\" and \"index\" after scaler\n",
    "# remove outliers on training data\n",
    "min_max_scaler = preprocessing.MinMaxScaler()\n",
    "mms_train_process_df = pd.DataFrame(min_max_scaler.fit_transform(train_drop_df), index=train_drop_df.index)\n",
    "mms_test_process_df = pd.DataFrame(min_max_scaler.fit_transform(test_drop_df))"
   ]
  },
  {
   "cell_type": "code",
   "execution_count": 5,
   "metadata": {},
   "outputs": [
    {
     "name": "stdout",
     "output_type": "stream",
     "text": [
      "mms_train_process_df.shape: (60000, 233)\n",
      "mms_test_process_df.shape: (10000, 233)\n"
     ]
    }
   ],
   "source": [
    "# [No-ohe version]\n",
    "### min max scalar\n",
    "# preserve column name after scaler\n",
    "min_max_scaler = preprocessing.MinMaxScaler()\n",
    "mms_features_df = pd.DataFrame(min_max_scaler.fit_transform(all_fillna_df))\n",
    "\n",
    "### Split to train & test data\n",
    "train_num = train_df.shape[0]\n",
    "#train_num = train_remove_outlier_df.shape[0]\n",
    "mms_train_process_df = mms_features_df.iloc[:train_num,:]\n",
    "mms_test_process_df = mms_features_df.iloc[train_num:,:]\n",
    "\n",
    "print(\"mms_train_process_df.shape:\", mms_train_process_df.shape)\n",
    "print(\"mms_test_process_df.shape:\", mms_test_process_df.shape)"
   ]
  },
  {
   "cell_type": "code",
   "execution_count": 6,
   "metadata": {},
   "outputs": [
    {
     "name": "stdout",
     "output_type": "stream",
     "text": [
      "X_train.shape: (51000, 233)\n",
      "y_train.shape: (51000, 1)\n",
      "X_val.shape: (9000, 233)\n",
      "y_val.shape: (9000, 1)\n"
     ]
    }
   ],
   "source": [
    "### Shuffle data\n",
    "shuff_train_all = shuffle(pd.concat((mms_train_process_df, label_df), axis=1), random_state=7)\n",
    "# No min max scalar\n",
    "#shuff_train_all = shuffle(pd.concat((train_process_df, label_df), axis=1))\n",
    "# Drop unimportant features\n",
    "#shuff_train_all = shuffle(pd.concat((temp_train_df, label_df), axis=1))\n",
    "# Drop & min max\n",
    "#shuff_train_all = shuffle(pd.concat((mms_train_process_df, label_df), axis=1))\n",
    "# Drop & min max & remove outliers\n",
    "#shuff_train_all = shuffle(pd.concat((mms_train_process_df, label_remove_outliers_df), axis=1), random_state=0)\n",
    "\n",
    "# training and validation num\n",
    "tv_num = round(shuff_train_all.shape[0] * 0.85)\n",
    "\n",
    "### Split data\n",
    "X_train = shuff_train_all.iloc[:tv_num,:-1]\n",
    "y_train = shuff_train_all.iloc[:tv_num,-1:]\n",
    "\n",
    "print(\"X_train.shape:\", X_train.shape)\n",
    "print(\"y_train.shape:\", y_train.shape)\n",
    "\n",
    "# Validation data\n",
    "X_val = shuff_train_all.iloc[tv_num:,:-1]\n",
    "y_val = shuff_train_all.iloc[tv_num:,-1:]\n",
    "\n",
    "print(\"X_val.shape:\", X_val.shape)\n",
    "print(\"y_val.shape:\", y_val.shape)"
   ]
  },
  {
   "cell_type": "code",
   "execution_count": 7,
   "metadata": {},
   "outputs": [],
   "source": [
    "### Transfter into data matrix\n",
    "dtrain = xgb.DMatrix(X_train, label=y_train)\n",
    "dvalidation = xgb.DMatrix(X_val, label=y_val)\n",
    "#dtest = xgb.DMatrix(mms_test_process_df)\n",
    "# No min max scaler\n",
    "#dtest = xgb.DMatrix(test_process_df)\n",
    "# Drop unimportant features\n",
    "#dtest = xgb.DMatrix(temp_test_df)\n",
    "# Drop & min max\n",
    "dtest = xgb.DMatrix(mms_test_process_df)"
   ]
  },
  {
   "cell_type": "code",
   "execution_count": 9,
   "metadata": {},
   "outputs": [
    {
     "name": "stdout",
     "output_type": "stream",
     "text": [
      "開始時間： 2019-06-28 07:33:12\n",
      "Fitting 5 folds for each of 32 candidates, totalling 160 fits\n"
     ]
    },
    {
     "name": "stderr",
     "output_type": "stream",
     "text": [
      "[Parallel(n_jobs=4)]: Using backend LokyBackend with 4 concurrent workers.\n",
      "[Parallel(n_jobs=4)]: Done  24 tasks      | elapsed:  4.4min\n",
      "[Parallel(n_jobs=4)]: Done 120 tasks      | elapsed: 62.6min\n",
      "[Parallel(n_jobs=4)]: Done 160 out of 160 | elapsed: 153.3min finished\n"
     ]
    },
    {
     "name": "stdout",
     "output_type": "stream",
     "text": [
      "[10:06:33] WARNING: C:/Jenkins/workspace/xgboost-win64_release_0.90/src/objective/regression_obj.cu:152: reg:linear is now deprecated in favor of reg:squarederror.\n",
      "spent time: 9210.715s 2019-06-28 10:06:42\n",
      "每輪迭代運行結果:{'mean_fit_time': array([ 35.98495727,  40.05808563,  43.41869912,  42.60248203,\n",
      "        54.23278298,  47.79699197,  46.02632666,  45.79454646,\n",
      "        77.47144418,  77.88972812,  78.09038963,  78.21625185,\n",
      "       116.83442054, 116.63865781, 116.35276875, 115.75677724,\n",
      "       178.33335071, 178.19978971, 178.03031311, 178.78447504,\n",
      "       280.13561616, 280.63945198, 280.71725101, 280.20129323,\n",
      "       431.47214141, 432.58263025, 431.21819744, 433.6701448 ,\n",
      "       655.10812087, 658.54389858, 660.06700168, 647.8750031 ]), 'std_fit_time': array([ 1.1056229 ,  1.59352959,  0.78867451,  0.62067408,  2.24593567,\n",
      "        1.28640041,  0.31339908,  0.22326453,  0.84557356,  0.42461642,\n",
      "        1.1806748 ,  0.71751797,  1.96455898,  1.50256922,  1.19775587,\n",
      "        0.78048966,  3.33308639,  3.56591226,  3.13517831,  3.50327974,\n",
      "        8.85550094,  8.89541106,  8.93219674,  8.8288072 , 10.78049116,\n",
      "        9.965835  , 10.87714782,  9.90432799, 19.23439854, 18.79565687,\n",
      "       17.37575475, 13.22690596]), 'mean_score_time': array([0.34826856, 0.41907921, 0.44939852, 0.40332146, 0.51741691,\n",
      "       0.40192575, 0.3327105 , 0.34029012, 0.568081  , 0.6360991 ,\n",
      "       0.67280092, 0.60917082, 0.82818551, 0.70626869, 0.82065516,\n",
      "       0.80185604, 0.89261351, 0.87004833, 0.90981994, 0.93270559,\n",
      "       1.08210568, 1.03000674, 1.03104291, 1.06874208, 1.22273026,\n",
      "       1.13025103, 1.21156044, 1.13500628, 1.36076093, 1.30850129,\n",
      "       1.31488423, 1.1188149 ]), 'std_score_time': array([0.0498004 , 0.04521069, 0.03553989, 0.0411771 , 0.03127554,\n",
      "       0.06918921, 0.0519406 , 0.06049607, 0.10783476, 0.10409464,\n",
      "       0.08292332, 0.08586642, 0.03683177, 0.15631553, 0.04494256,\n",
      "       0.01311072, 0.06037562, 0.09715259, 0.04574009, 0.01662106,\n",
      "       0.0093977 , 0.08275232, 0.05582344, 0.02977712, 0.02688703,\n",
      "       0.06638049, 0.01623427, 0.08341262, 0.03366562, 0.10491433,\n",
      "       0.07248195, 0.20516902]), 'param_max_depth': masked_array(data=[3, 3, 3, 3, 4, 4, 4, 4, 5, 5, 5, 5, 6, 6, 6, 6, 7, 7,\n",
      "                   7, 7, 8, 8, 8, 8, 9, 9, 9, 9, 10, 10, 10, 10],\n",
      "             mask=[False, False, False, False, False, False, False, False,\n",
      "                   False, False, False, False, False, False, False, False,\n",
      "                   False, False, False, False, False, False, False, False,\n",
      "                   False, False, False, False, False, False, False, False],\n",
      "       fill_value='?',\n",
      "            dtype=object), 'param_min_child_weight': masked_array(data=[0.1, 0.2, 0.3, 0.5, 0.1, 0.2, 0.3, 0.5, 0.1, 0.2, 0.3,\n",
      "                   0.5, 0.1, 0.2, 0.3, 0.5, 0.1, 0.2, 0.3, 0.5, 0.1, 0.2,\n",
      "                   0.3, 0.5, 0.1, 0.2, 0.3, 0.5, 0.1, 0.2, 0.3, 0.5],\n",
      "             mask=[False, False, False, False, False, False, False, False,\n",
      "                   False, False, False, False, False, False, False, False,\n",
      "                   False, False, False, False, False, False, False, False,\n",
      "                   False, False, False, False, False, False, False, False],\n",
      "       fill_value='?',\n",
      "            dtype=object), 'params': [{'max_depth': 3, 'min_child_weight': 0.1}, {'max_depth': 3, 'min_child_weight': 0.2}, {'max_depth': 3, 'min_child_weight': 0.3}, {'max_depth': 3, 'min_child_weight': 0.5}, {'max_depth': 4, 'min_child_weight': 0.1}, {'max_depth': 4, 'min_child_weight': 0.2}, {'max_depth': 4, 'min_child_weight': 0.3}, {'max_depth': 4, 'min_child_weight': 0.5}, {'max_depth': 5, 'min_child_weight': 0.1}, {'max_depth': 5, 'min_child_weight': 0.2}, {'max_depth': 5, 'min_child_weight': 0.3}, {'max_depth': 5, 'min_child_weight': 0.5}, {'max_depth': 6, 'min_child_weight': 0.1}, {'max_depth': 6, 'min_child_weight': 0.2}, {'max_depth': 6, 'min_child_weight': 0.3}, {'max_depth': 6, 'min_child_weight': 0.5}, {'max_depth': 7, 'min_child_weight': 0.1}, {'max_depth': 7, 'min_child_weight': 0.2}, {'max_depth': 7, 'min_child_weight': 0.3}, {'max_depth': 7, 'min_child_weight': 0.5}, {'max_depth': 8, 'min_child_weight': 0.1}, {'max_depth': 8, 'min_child_weight': 0.2}, {'max_depth': 8, 'min_child_weight': 0.3}, {'max_depth': 8, 'min_child_weight': 0.5}, {'max_depth': 9, 'min_child_weight': 0.1}, {'max_depth': 9, 'min_child_weight': 0.2}, {'max_depth': 9, 'min_child_weight': 0.3}, {'max_depth': 9, 'min_child_weight': 0.5}, {'max_depth': 10, 'min_child_weight': 0.1}, {'max_depth': 10, 'min_child_weight': 0.2}, {'max_depth': 10, 'min_child_weight': 0.3}, {'max_depth': 10, 'min_child_weight': 0.5}], 'split0_test_score': array([-2.17316921e+14, -2.17316921e+14, -2.17316921e+14, -2.17316921e+14,\n",
      "       -2.22214514e+14, -2.22214514e+14, -2.22214514e+14, -2.22214514e+14,\n",
      "       -2.30784306e+14, -2.30784306e+14, -2.30784306e+14, -2.30784306e+14,\n",
      "       -2.24766251e+14, -2.24766251e+14, -2.24766251e+14, -2.24766251e+14,\n",
      "       -2.35859522e+14, -2.35859522e+14, -2.35859522e+14, -2.35859522e+14,\n",
      "       -2.37484575e+14, -2.37484575e+14, -2.37484575e+14, -2.37484575e+14,\n",
      "       -2.29946735e+14, -2.29946735e+14, -2.29946735e+14, -2.29946735e+14,\n",
      "       -2.27348614e+14, -2.27348614e+14, -2.27348614e+14, -2.27348614e+14]), 'split1_test_score': array([-3.09077469e+15, -3.09077469e+15, -3.09077469e+15, -3.09077469e+15,\n",
      "       -3.30260394e+15, -3.30260394e+15, -3.30260394e+15, -3.30260394e+15,\n",
      "       -3.22948114e+15, -3.22948114e+15, -3.22948114e+15, -3.22948114e+15,\n",
      "       -3.36644406e+15, -3.36644406e+15, -3.36644406e+15, -3.36644406e+15,\n",
      "       -3.50746654e+15, -3.50746654e+15, -3.50746654e+15, -3.50746654e+15,\n",
      "       -3.48250326e+15, -3.48250326e+15, -3.48250326e+15, -3.48250326e+15,\n",
      "       -3.40019246e+15, -3.40019246e+15, -3.40019246e+15, -3.40019246e+15,\n",
      "       -3.46962787e+15, -3.46962787e+15, -3.46962787e+15, -3.46962787e+15]), 'split2_test_score': array([-4.36995447e+14, -4.36995447e+14, -4.36995447e+14, -4.36995447e+14,\n",
      "       -4.62869730e+14, -4.62869730e+14, -4.62869730e+14, -4.62869730e+14,\n",
      "       -4.32247513e+14, -4.32247513e+14, -4.32247513e+14, -4.32247513e+14,\n",
      "       -4.54284669e+14, -4.54284669e+14, -4.54284669e+14, -4.54284669e+14,\n",
      "       -4.51766737e+14, -4.51766737e+14, -4.51766737e+14, -4.51766737e+14,\n",
      "       -4.80166469e+14, -4.80166469e+14, -4.80166469e+14, -4.80166469e+14,\n",
      "       -4.85646086e+14, -4.85646086e+14, -4.85646086e+14, -4.85646086e+14,\n",
      "       -4.84042349e+14, -4.84042349e+14, -4.84042349e+14, -4.84042349e+14]), 'split3_test_score': array([-1.99526550e+14, -1.99526550e+14, -1.99526550e+14, -1.99526550e+14,\n",
      "       -2.11469630e+14, -2.11469630e+14, -2.11469630e+14, -2.11469630e+14,\n",
      "       -2.22688040e+14, -2.22688040e+14, -2.22688040e+14, -2.22688040e+14,\n",
      "       -1.94936603e+14, -1.94936603e+14, -1.94936603e+14, -1.94936603e+14,\n",
      "       -1.81708151e+14, -1.81708151e+14, -1.81708151e+14, -1.81708151e+14,\n",
      "       -1.94789855e+14, -1.94789855e+14, -1.94789855e+14, -1.94789855e+14,\n",
      "       -2.02333475e+14, -2.02333475e+14, -2.02333475e+14, -2.02333475e+14,\n",
      "       -1.99064790e+14, -1.99064790e+14, -1.99064790e+14, -1.99064790e+14]), 'split4_test_score': array([-5.34038896e+14, -5.34038896e+14, -5.34038896e+14, -5.34038896e+14,\n",
      "       -4.33166150e+14, -4.33166150e+14, -4.33166150e+14, -4.33166150e+14,\n",
      "       -4.07437007e+14, -4.07437007e+14, -4.07437007e+14, -4.07437007e+14,\n",
      "       -3.96151369e+14, -3.96151369e+14, -3.96151369e+14, -3.96151369e+14,\n",
      "       -3.91920034e+14, -3.91920034e+14, -3.91920034e+14, -3.91920034e+14,\n",
      "       -4.52078865e+14, -4.52078865e+14, -4.52078865e+14, -4.52078865e+14,\n",
      "       -4.49464012e+14, -4.49464012e+14, -4.49464012e+14, -4.49464012e+14,\n",
      "       -4.89517632e+14, -4.89517632e+14, -4.89517632e+14, -4.89517632e+14]), 'mean_test_score': array([-8.95730502e+14, -8.95730502e+14, -8.95730502e+14, -8.95730502e+14,\n",
      "       -9.26464793e+14, -9.26464793e+14, -9.26464793e+14, -9.26464793e+14,\n",
      "       -9.04527601e+14, -9.04527601e+14, -9.04527601e+14, -9.04527601e+14,\n",
      "       -9.27316590e+14, -9.27316590e+14, -9.27316590e+14, -9.27316590e+14,\n",
      "       -9.53744197e+14, -9.53744197e+14, -9.53744197e+14, -9.53744197e+14,\n",
      "       -9.69404604e+14, -9.69404604e+14, -9.69404604e+14, -9.69404604e+14,\n",
      "       -9.53516554e+14, -9.53516554e+14, -9.53516554e+14, -9.53516554e+14,\n",
      "       -9.73920252e+14, -9.73920252e+14, -9.73920252e+14, -9.73920252e+14]), 'std_test_score': array([1.10493643e+15, 1.10493643e+15, 1.10493643e+15, 1.10493643e+15,\n",
      "       1.19260117e+15, 1.19260117e+15, 1.19260117e+15, 1.19260117e+15,\n",
      "       1.16570937e+15, 1.16570937e+15, 1.16570937e+15, 1.16570937e+15,\n",
      "       1.22353553e+15, 1.22353553e+15, 1.22353553e+15, 1.22353553e+15,\n",
      "       1.28066574e+15, 1.28066574e+15, 1.28066574e+15, 1.28066574e+15,\n",
      "       1.26161640e+15, 1.26161640e+15, 1.26161640e+15, 1.26161640e+15,\n",
      "       1.22857837e+15, 1.22857837e+15, 1.22857837e+15, 1.22857837e+15,\n",
      "       1.25387025e+15, 1.25387025e+15, 1.25387025e+15, 1.25387025e+15]), 'rank_test_score': array([ 1,  1,  1,  1,  9,  9,  9,  9,  5,  5,  5,  5, 13, 13, 13, 13, 21,\n",
      "       21, 21, 21, 25, 25, 25, 25, 17, 17, 17, 17, 29, 29, 29, 29])}\n",
      "參數的最佳取值：{'max_depth': 3, 'min_child_weight': 0.1}\n",
      "最佳模型得分:-895730501631132.9\n"
     ]
    }
   ],
   "source": [
    "### Booster parameters\n",
    "\n",
    "### Fit the model\n",
    "XGB_Regressor = xgb.XGBRegressor(colsample_bytree=0.6, subsample=0.7,\n",
    "                             learning_rate=0.1, max_depth=8, \n",
    "                             min_child_weight=0.3, n_estimators=2000,\n",
    "                             reg_alpha=0.08, reg_lambda=1.5, gamma=0.00001, \n",
    "                             verbosity=1, random_state =7, nthread = -1,\n",
    "                             tree_method='gpu_hist' )\n",
    "\n",
    "print('開始時間：', strftime(\"%Y-%m-%d %H:%M:%S\", localtime()))\n",
    "t0 = time()\n",
    "\n",
    "### Grid Search CV\n",
    "#cv_params = {'n_estimators': [600, 700, 800, 900, 1000]} #result: n_estimators=1000\n",
    "cv_params = {'max_depth': [3, 4, 5, 6, 7, 8, 9, 10], 'min_child_weight': [0.1, 0.2, 0.3, 0.5]} #result: max_depth=8, min_child_weight=0.3 #spent: 62.3 min\n",
    "#此次無測 #cv_params = {'min_child_weight': [0.3, 0.4, 0.5, 0.6]} #result: min_child_weight=0.3 #spent: 2.2min\n",
    "#cv_params = {'gamma': [0.00001, 0.00005, 0.0001, 0.0002]} #result: gamma=0.00001 #spent: 8.1min\n",
    "#cv_params = {'subsample': [0.6, 0.7, 0.8, 0.9], 'colsample_bytree': [0.6, 0.7, 0.8, 0.9]} #result: subsample=0.9, colsample_bytree=0.7 #spent: 33.6min\n",
    "#cv_params = {'reg_alpha': [0.08, 0.1, 1.2, 1.5], 'reg_lambda': [1.5, 1.8, 2]} #result: reg_alpha=0.08, reg_lambda=1.5 #spent: 26.1min\n",
    "#cv_params = {'learning_rate': [0.01, 0.05, 0.07, 0.1, 0.2]} #result: learning_rate=0.1, reg_lambda=1 #spent: 10.5min\n",
    "#cv_params = {'random_state': [0,1,2,3,4,7]} #result: random_state= #spent: min\n",
    "optimized_GBM = GridSearchCV(estimator=XGB_Regressor, param_grid=cv_params, scoring='neg_mean_squared_error', cv=5, verbose=3, n_jobs=4)\n",
    "optimized_GBM.fit(X_train, y_train)\n",
    "evalute_result = optimized_GBM.cv_results_\n",
    "print('spent time: %0.3fs' % (time() - t0), strftime(\"%Y-%m-%d %H:%M:%S\", localtime()))\n",
    "\n",
    "print('每輪迭代運行結果:{0}' .format(evalute_result))\n",
    "print('參數的最佳取值：{0}' .format(optimized_GBM.best_params_))\n",
    "print('最佳模型得分:{0}' .format(optimized_GBM.best_score_))"
   ]
  },
  {
   "cell_type": "code",
   "execution_count": null,
   "metadata": {},
   "outputs": [],
   "source": [
    "### Validation\n",
    "RMSE_train = np.sqrt(mean_squared_error(y_train, y_test))\n",
    "print('RMSE_train:', RMSE_train.round(4))\n",
    "\n",
    "y_val_test = bst.predict(dvalidation)\n",
    "RMSE_val = np.sqrt(mean_squared_error(y_val, y_val_test))\n",
    "print('RMSE_val:', \"{:,}\".format(RMSE_val.round(4)))"
   ]
  },
  {
   "cell_type": "code",
   "execution_count": null,
   "metadata": {},
   "outputs": [],
   "source": [
    "print(\"y_train:\", pd.DataFrame(y_train).describe())\n",
    "print(\"y_test:\", pd.DataFrame(y_test).describe())\n",
    "print(\"xgb_pred:\", pd.DataFrame(xgb_pred).describe())\n",
    "print(\"number of xgb_pred are negative:\", len(xgb_pred[xgb_pred < 0]))"
   ]
  },
  {
   "cell_type": "code",
   "execution_count": null,
   "metadata": {},
   "outputs": [],
   "source": [
    "import os\n",
    "import re\n",
    "\n",
    "def getMaxFileNum():\n",
    "    max = 0\n",
    "    for f in os.listdir(\"../submit\"):\n",
    "        fileNum = re.findall('\\d+', f)\n",
    "        if len(fileNum):\n",
    "            if int(fileNum[0]) > max:\n",
    "                max = int(fileNum[0])\n",
    "    return str(max + 1)\n",
    "\n",
    "# Submission\n",
    "filePath = \"../submit/submit_test_\" + getMaxFileNum() + \".csv\"\n",
    "\n",
    "pred_df = pd.DataFrame(np.array(xgb_pred), columns=[\"total_price\"])\n",
    "ans_df = pd.merge(submit_test_df[\"building_id\"].to_frame(), pred_df, left_index=True, right_index=True, how=\"outer\")\n",
    "ans_df.to_csv(filePath,sep=\",\",index=False,encoding=\"UTF-8\")\n",
    "\n",
    "print('filePath:', filePath)"
   ]
  }
 ],
 "metadata": {
  "kernelspec": {
   "display_name": "Python 3",
   "language": "python",
   "name": "python3"
  },
  "language_info": {
   "codemirror_mode": {
    "name": "ipython",
    "version": 3
   },
   "file_extension": ".py",
   "mimetype": "text/x-python",
   "name": "python",
   "nbconvert_exporter": "python",
   "pygments_lexer": "ipython3",
   "version": "3.7.0"
  }
 },
 "nbformat": 4,
 "nbformat_minor": 2
}
