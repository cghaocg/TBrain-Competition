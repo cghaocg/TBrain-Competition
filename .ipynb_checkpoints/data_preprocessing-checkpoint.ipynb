{
 "cells": [
  {
   "cell_type": "code",
   "execution_count": 1,
   "metadata": {},
   "outputs": [],
   "source": [
    "import pandas as pd\n",
    "import numpy as np\n",
    "import tensorflow as tf\n",
    "\n",
    "# 只使用 30% 的 GPU 記憶體\n",
    "gpu_options = tf.GPUOptions(per_process_gpu_memory_fraction=0.4)\n",
    "sess = tf.Session(config=tf.ConfigProto(gpu_options=gpu_options))"
   ]
  },
  {
   "cell_type": "code",
   "execution_count": 2,
   "metadata": {},
   "outputs": [],
   "source": [
    "train_data = pd.read_csv(\"../dataset/train.csv\")\n",
    "test_data = pd.read_csv(\"../dataset/test.csv\")"
   ]
  },
  {
   "cell_type": "code",
   "execution_count": 3,
   "metadata": {},
   "outputs": [],
   "source": [
    "train_num = train_data.shape[0]\n",
    "train_y = train_data['total_price']\n",
    "train_data= train_data.drop([\"total_price\"],axis=1)"
   ]
  },
  {
   "cell_type": "code",
   "execution_count": 4,
   "metadata": {},
   "outputs": [],
   "source": [
    "merge_df = pd.concat([train_data,test_data], ignore_index=True, sort=False)"
   ]
  },
  {
   "cell_type": "code",
   "execution_count": 5,
   "metadata": {},
   "outputs": [],
   "source": [
    "merge_df = merge_df.fillna(0)"
   ]
  },
  {
   "cell_type": "code",
   "execution_count": 6,
   "metadata": {},
   "outputs": [],
   "source": [
    "from sklearn import preprocessing"
   ]
  },
  {
   "cell_type": "code",
   "execution_count": 7,
   "metadata": {},
   "outputs": [],
   "source": [
    "ohe = preprocessing.OneHotEncoder(categories = 'auto')\n",
    "total_floor = ohe.fit_transform(merge_df['total_floor'].values.reshape(-1,1)).toarray()\n",
    "txn_floor = ohe.fit_transform(merge_df['txn_floor'].values.reshape(-1,1)).toarray()\n",
    "city = ohe.fit_transform(merge_df['city'].values.reshape(-1,1)).toarray()\n",
    "town = ohe.fit_transform(merge_df['town'].values.reshape(-1,1)).toarray()\n",
    "village = ohe.fit_transform(merge_df['village'].values.reshape(-1,1)).toarray()\n",
    "building_type = ohe.fit_transform(merge_df['building_type'].values.reshape(-1,1)).toarray()\n",
    "building_use = ohe.fit_transform(merge_df['building_use'].values.reshape(-1,1)).toarray()\n",
    "parking_way = ohe.fit_transform(merge_df['parking_way'].values.reshape(-1,1)).toarray()\n",
    "building_material = ohe.fit_transform(merge_df['building_material'].values.reshape(-1,1)).toarray()"
   ]
  },
  {
   "cell_type": "code",
   "execution_count": 8,
   "metadata": {},
   "outputs": [],
   "source": [
    "ohe_merge = np.hstack((total_floor,txn_floor,city,town,village,building_type,building_use,parking_way,building_material))"
   ]
  },
  {
   "cell_type": "code",
   "execution_count": 9,
   "metadata": {},
   "outputs": [
    {
     "data": {
      "text/plain": [
       "(70000, 3258)"
      ]
     },
     "execution_count": 9,
     "metadata": {},
     "output_type": "execute_result"
    }
   ],
   "source": [
    "ohe_merge.shape"
   ]
  },
  {
   "cell_type": "code",
   "execution_count": 10,
   "metadata": {},
   "outputs": [],
   "source": [
    "ohe_merge_df = pd.DataFrame(ohe_merge)"
   ]
  },
  {
   "cell_type": "code",
   "execution_count": 11,
   "metadata": {},
   "outputs": [],
   "source": [
    "merge_df = merge_df.drop(['building_id', 'total_floor', 'txn_floor', 'city', 'town', 'village', 'building_type', 'building_use',\n",
    "       'parking_way', 'building_material'],axis=1)"
   ]
  },
  {
   "cell_type": "code",
   "execution_count": 12,
   "metadata": {},
   "outputs": [],
   "source": [
    "merge_df = merge_df.values\n",
    "merge_df = np.hstack((merge_df,ohe_merge))\n",
    "merge_df = preprocessing.Normalizer().transform(merge_df)"
   ]
  },
  {
   "cell_type": "code",
   "execution_count": 13,
   "metadata": {},
   "outputs": [
    {
     "name": "stderr",
     "output_type": "stream",
     "text": [
      "C:\\Users\\me\\Anaconda3\\envs\\tensorflow-gpu\\lib\\site-packages\\ipykernel_launcher.py:4: SettingWithCopyWarning: \n",
      "A value is trying to be set on a copy of a slice from a DataFrame.\n",
      "Try using .loc[row_indexer,col_indexer] = value instead\n",
      "\n",
      "See the caveats in the documentation: http://pandas.pydata.org/pandas-docs/stable/indexing.html#indexing-view-versus-copy\n",
      "  after removing the cwd from sys.path.\n"
     ]
    }
   ],
   "source": [
    "merge_df = pd.DataFrame(merge_df)\n",
    "train_data = merge_df.loc[0:train_num-1,:]\n",
    "test_data = merge_df.loc[train_num:,:]\n",
    "train_data['total_price'] = train_y.values"
   ]
  },
  {
   "cell_type": "code",
   "execution_count": 14,
   "metadata": {},
   "outputs": [
    {
     "data": {
      "text/plain": [
       "(60000, 3483)"
      ]
     },
     "execution_count": 14,
     "metadata": {},
     "output_type": "execute_result"
    }
   ],
   "source": [
    "train_data.shape"
   ]
  },
  {
   "cell_type": "code",
   "execution_count": 15,
   "metadata": {},
   "outputs": [],
   "source": [
    "train_data.to_csv(\"../dataset/train_data.csv\",encoding='utf-8',sep=',',index=False)\n",
    "test_data.to_csv(\"../dataset/test_data.csv\",encoding='utf-8',sep=',',index=False)"
   ]
  },
  {
   "cell_type": "code",
   "execution_count": null,
   "metadata": {},
   "outputs": [],
   "source": []
  }
 ],
 "metadata": {
  "kernelspec": {
   "display_name": "Python 3",
   "language": "python",
   "name": "python3"
  },
  "language_info": {
   "codemirror_mode": {
    "name": "ipython",
    "version": 3
   },
   "file_extension": ".py",
   "mimetype": "text/x-python",
   "name": "python",
   "nbconvert_exporter": "python",
   "pygments_lexer": "ipython3",
   "version": "3.7.0"
  }
 },
 "nbformat": 4,
 "nbformat_minor": 2
}
