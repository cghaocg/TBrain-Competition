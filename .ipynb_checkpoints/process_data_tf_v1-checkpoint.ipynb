{
 "cells": [
  {
   "cell_type": "markdown",
   "metadata": {},
   "source": [
    "reference by \n",
    "1. https://medium.com/coinmonks/linear-regression-with-tensorflow-canned-estimators-6cc4ffddd14f\n",
    "2. https://hackernoon.com/build-your-first-neural-network-to-predict-house-prices-with-keras-3fb0839680f4"
   ]
  },
  {
   "cell_type": "code",
   "execution_count": 30,
   "metadata": {},
   "outputs": [],
   "source": [
    "import numpy as np\n",
    "import pandas as pd\n",
    "from sklearn.model_selection import train_test_split\n",
    "from sklearn import preprocessing\n",
    "from time import time, strftime, localtime"
   ]
  },
  {
   "cell_type": "code",
   "execution_count": 2,
   "metadata": {},
   "outputs": [],
   "source": [
    "import math\n",
    "import h5py\n",
    "import matplotlib.pyplot as plt\n",
    "import scipy\n",
    "#from PIL import Image\n",
    "from scipy import ndimage\n",
    "import tensorflow as tf\n",
    "from tensorflow.python.framework import ops\n",
    "#from cnn_utils import *\n",
    "\n",
    "%matplotlib inline"
   ]
  },
  {
   "cell_type": "code",
   "execution_count": 3,
   "metadata": {},
   "outputs": [],
   "source": [
    "# Load data\n",
    "train_df = pd.read_csv('dataset/train.csv')\n",
    "test_df = pd.read_csv('dataset/test.csv')\n",
    "submit_test_df = pd.read_csv('dataset/submit_test.csv')"
   ]
  },
  {
   "cell_type": "code",
   "execution_count": 25,
   "metadata": {},
   "outputs": [
    {
     "data": {
      "text/plain": [
       "array([['e3mMIMR3JJqCaXz1', 8, 21, 18674, 4],\n",
       "       ['LgwzgklNvy4QCtq5', 8, 7, 18800, 5],\n",
       "       ['ucIR2NLLsC3T650L', 8, 7, 19289, 4],\n",
       "       ...,\n",
       "       ['FQmlgGohzzWuKUzu', 8, 7, 19901, 11],\n",
       "       ['zjzfMwXhDswdEaI2', 8, 13, 19975, 5],\n",
       "       ['iN4H6wBMtvJpF0SN', 8, 7, 20385, 5]], dtype=object)"
      ]
     },
     "execution_count": 25,
     "metadata": {},
     "output_type": "execute_result"
    }
   ],
   "source": [
    "train_df.values[:,0:5]"
   ]
  },
  {
   "cell_type": "code",
   "execution_count": 82,
   "metadata": {},
   "outputs": [],
   "source": [
    "# Instantiation\n",
    "# Process feature columns\n",
    "\n",
    "# 32 feature (not include I, II, III...)\n",
    "\n",
    "# [numeric]\n",
    "building_material = tf.feature_column.numeric_column('building_material', dtype=tf.float64, shape=())\n",
    "city = tf.feature_column.numeric_column('city', dtype=tf.float64, shape=())\n",
    "txn_dt = tf.feature_column.numeric_column('txn_dt', dtype=tf.float64, shape=())\n",
    "total_floor = tf.feature_column.numeric_column('total_floor', dtype=tf.float64, shape=())\n",
    "building_type = tf.feature_column.numeric_column('building_type', dtype=tf.float64, shape=())\n",
    "building_use = tf.feature_column.numeric_column('building_use', dtype=tf.float64, shape=())\n",
    "building_complete_dt = tf.feature_column.numeric_column('building_complete_dt', dtype=tf.float64, shape=())\n",
    "parking_way = tf.feature_column.numeric_column('parking_way', dtype=tf.float64, shape=())\n",
    "# 8\n",
    "parking_area = tf.feature_column.numeric_column('parking_area', dtype=tf.float64, shape=())\n",
    "parking_price = tf.feature_column.numeric_column('parking_price', dtype=tf.float64, shape=())\n",
    "txn_floor = tf.feature_column.numeric_column('txn_floor', dtype=tf.float64, shape=())\n",
    "land_area = tf.feature_column.numeric_column('land_area', dtype=tf.float64, shape=())\n",
    "building_area = tf.feature_column.numeric_column('building_area', dtype=tf.float64, shape=())\n",
    "town = tf.feature_column.numeric_column('town', dtype=tf.float64, shape=())\n",
    "lat = tf.feature_column.numeric_column('lat', dtype=tf.float64, shape=())\n",
    "lon = tf.feature_column.numeric_column('lon', dtype=tf.float64, shape=())\n",
    "# 16\n",
    "village_income_median = tf.feature_column.numeric_column('village_income_median', dtype=tf.float64, shape=())\n",
    "town_population = tf.feature_column.numeric_column('town_population', dtype=tf.float64, shape=())\n",
    "town_area = tf.feature_column.numeric_column('town_area', dtype=tf.float64, shape=())\n",
    "town_population_density = tf.feature_column.numeric_column('town_population_density', dtype=tf.float64, shape=())\n",
    "doc_rate = tf.feature_column.numeric_column('doc_rate', dtype=tf.float64, shape=())\n",
    "master_rate = tf.feature_column.numeric_column('master_rate', dtype=tf.float64, shape=())\n",
    "bachelor_rate = tf.feature_column.numeric_column('bachelor_rate', dtype=tf.float64, shape=())\n",
    "jobschool_rate = tf.feature_column.numeric_column('jobschool_rate', dtype=tf.float64, shape=())\n",
    "# 24\n",
    "highschool_rate = tf.feature_column.numeric_column('highschool_rate', dtype=tf.float64, shape=())\n",
    "junior_rate = tf.feature_column.numeric_column('junior_rate', dtype=tf.float64, shape=())\n",
    "elementary_rate = tf.feature_column.numeric_column('elementary_rate', dtype=tf.float64, shape=())\n",
    "born_rate = tf.feature_column.numeric_column('born_rate', dtype=tf.float64, shape=())\n",
    "death_rate = tf.feature_column.numeric_column('death_rate', dtype=tf.float64, shape=())\n",
    "marriage_rate = tf.feature_column.numeric_column('marriage_rate', dtype=tf.float64, shape=())\n",
    "divorce_rate = tf.feature_column.numeric_column('divorce_rate', dtype=tf.float64, shape=())\n",
    "village = tf.feature_column.numeric_column('village', dtype=tf.float64, shape=())\n",
    "# 32\n",
    "\n",
    "# [nategorical column with hash bucket]\n",
    "# [nategorical column with vocabulary list]\n",
    "# [feature crosses]\n",
    "\n",
    "\n",
    "#feature_cols = [building_material, city, txn_dt, total_floor, building_type, building_use, building_complete_dt, parking_way,\n",
    "#                        parking_area, parking_price, txn_floor, land_area, building_area, town, lat, lon,\n",
    "#                        village_income_median, town_population, town_area, town_population_density, doc_rate, master_rate, bachelor_rate, jobschool_rate,\n",
    "#                        highschool_rate, junior_rate, elementary_rate, born_rate, death_rate, marriage_rate, divorce_rate, village]\n",
    "\n",
    "#feature_names = ['building_material', 'city', 'txn_dt', 'total_floor', 'building_type', 'building_use', 'building_complete_dt', 'parking_way',\n",
    "#                        'parking_area', 'parking_price', 'txn_floor', 'land_area', 'building_area', 'town', 'lat', 'lon',\n",
    "#                        'village_income_median', 'town_population', 'town_area', 'town_population_density', 'doc_rate', 'master_rate', 'bachelor_rate', 'jobschool_rate',\n",
    "#                        'highschool_rate', 'junior_rate', 'elementary_rate', 'born_rate', 'death_rate', 'marriage_rate', 'divorce_rate', 'village']\n",
    "\n",
    "# remove \"txn_dt\", \"building_complete_dt\"\n",
    "feature_cols = [building_material, city, total_floor, building_type, building_use, parking_way,\n",
    "                        parking_area, parking_price, txn_floor, land_area, building_area, town, lat, lon,\n",
    "                        village_income_median, town_population, town_area, town_population_density, doc_rate, master_rate, bachelor_rate, jobschool_rate,\n",
    "                        highschool_rate, junior_rate, elementary_rate, born_rate, death_rate, marriage_rate, divorce_rate, village]\n",
    "# remove \"txn_dt\", \"building_complete_dt\"\n",
    "feature_names = ['building_material', 'city', 'total_floor', 'building_type', 'building_use', 'parking_way',\n",
    "                        'parking_area', 'parking_price', 'txn_floor', 'land_area', 'building_area', 'town', 'lat', 'lon',\n",
    "                        'village_income_median', 'town_population', 'town_area', 'town_population_density', 'doc_rate', 'master_rate', 'bachelor_rate', 'jobschool_rate',\n",
    "                        'highschool_rate', 'junior_rate', 'elementary_rate', 'born_rate', 'death_rate', 'marriage_rate', 'divorce_rate', 'village']\n",
    "label_name = 'total_price'\n",
    "\n",
    "features_df = train_df[feature_names].fillna(value=0.0)\n",
    "label_df = train_df[label_name].fillna(value=0.0)\n",
    "\n",
    "# data preprocessing\n",
    "min_max_scaler = preprocessing.MinMaxScaler()\n",
    "# preserve column name after scaler\n",
    "mms_features_df = pd.DataFrame(min_max_scaler.fit_transform(features_df), index=features_df.index, columns=features_df.columns)\n",
    "\n",
    "X_train, X_test, y_train, y_test = train_test_split(mms_features_df, label_df, random_state=0, test_size=0.2)\n",
    "\n",
    "pred_ndarray = test_df[feature_names].fillna(value=0.0)"
   ]
  },
  {
   "cell_type": "code",
   "execution_count": 63,
   "metadata": {},
   "outputs": [],
   "source": [
    "# Input function for training\n",
    "def train_input():\n",
    "    _dataset = tf.data.Dataset.from_tensor_slices(({'building_material': X_train['building_material'], \n",
    "                                                   'city': X_train['city'], \n",
    "                                                   'total_floor': X_train['total_floor'],\n",
    "                                                   'building_type': X_train['building_type'],\n",
    "                                                   'building_use': X_train['building_use'],\n",
    "                                                   'parking_way': X_train['parking_way'], #6\n",
    "                                                   'parking_area': X_train['parking_area'],\n",
    "                                                   'parking_price': X_train['parking_price'],\n",
    "                                                   'txn_floor': X_train['txn_floor'],\n",
    "                                                   'land_area': X_train['land_area'],\n",
    "                                                   'building_area': X_train['building_area'],\n",
    "                                                   'town': X_train['town'],\n",
    "                                                   'lat': X_train['lat'],\n",
    "                                                   'lon': X_train['lon'], #14\n",
    "                                                   'village_income_median': X_train['village_income_median'],\n",
    "                                                   'town_population': X_train['town_population'],\n",
    "                                                   'town_area': X_train['town_area'],\n",
    "                                                   'town_population_density': X_train['town_population_density'],\n",
    "                                                   'doc_rate': X_train['doc_rate'],\n",
    "                                                   'master_rate': X_train['master_rate'],\n",
    "                                                   'bachelor_rate': X_train['bachelor_rate'],\n",
    "                                                   'jobschool_rate': X_train['jobschool_rate'], #22\n",
    "                                                   'highschool_rate': X_train['highschool_rate'],\n",
    "                                                   'junior_rate': X_train['junior_rate'],\n",
    "                                                   'elementary_rate': X_train['elementary_rate'],\n",
    "                                                   'born_rate': X_train['born_rate'],\n",
    "                                                   'death_rate': X_train['death_rate'],\n",
    "                                                   'marriage_rate': X_train['marriage_rate'],\n",
    "                                                   'divorce_rate': X_train['divorce_rate'],\n",
    "                                                   'village': X_train['village'], #30\n",
    "                                                  }, y_train))\n",
    "    dataset = _dataset.batch(32)\n",
    "    # create an iterator\n",
    "    iterator = dataset.make_one_shot_iterator()\n",
    "    features, labels = iterator.get_next()\n",
    "    return features, labels"
   ]
  },
  {
   "cell_type": "code",
   "execution_count": 64,
   "metadata": {},
   "outputs": [],
   "source": [
    "# Input function for validation\n",
    "def val_input():\n",
    "    # Convert the inputs to a Dataset.\n",
    "    _dataset = tf.data.Dataset.from_tensor_slices(({'building_material': X_test['building_material'], \n",
    "                                                   'city': X_test['city'], \n",
    "                                                   'total_floor': X_test['total_floor'],\n",
    "                                                   'building_type': X_test['building_type'],\n",
    "                                                   'building_use': X_test['building_use'],\n",
    "                                                   'parking_way': X_test['parking_way'], #6\n",
    "                                                   'parking_area': X_test['parking_area'],\n",
    "                                                   'parking_price': X_test['parking_price'],\n",
    "                                                   'txn_floor': X_test['txn_floor'],\n",
    "                                                   'land_area': X_test['land_area'],\n",
    "                                                   'building_area': X_test['building_area'],\n",
    "                                                   'town': X_test['town'],\n",
    "                                                   'lat': X_test['lat'],\n",
    "                                                   'lon': X_test['lon'], #14\n",
    "                                                   'village_income_median': X_test['village_income_median'],\n",
    "                                                   'town_population': X_test['town_population'],\n",
    "                                                   'town_area': X_test['town_area'],\n",
    "                                                   'town_population_density': X_test['town_population_density'],\n",
    "                                                   'doc_rate': X_test['doc_rate'],\n",
    "                                                   'master_rate': X_test['master_rate'],\n",
    "                                                   'bachelor_rate': X_test['bachelor_rate'],\n",
    "                                                   'jobschool_rate': X_test['jobschool_rate'], #22\n",
    "                                                   'highschool_rate': X_test['highschool_rate'],\n",
    "                                                   'junior_rate': X_test['junior_rate'],\n",
    "                                                   'elementary_rate': X_test['elementary_rate'],\n",
    "                                                   'born_rate': X_test['born_rate'],\n",
    "                                                   'death_rate': X_test['death_rate'],\n",
    "                                                   'marriage_rate': X_test['marriage_rate'],\n",
    "                                                   'divorce_rate': X_test['divorce_rate'],\n",
    "                                                   'village': X_test['village'], #30\n",
    "                                                  }, y_test))\n",
    "    dataset = _dataset.batch(32)\n",
    "    # create an iterator\n",
    "    iterator = dataset.make_one_shot_iterator()\n",
    "    features, labels = iterator.get_next()\n",
    "    return features, labels"
   ]
  },
  {
   "cell_type": "code",
   "execution_count": 65,
   "metadata": {},
   "outputs": [],
   "source": [
    "# Input function for prediction\n",
    "def pred_input():\n",
    "    _dataset = tf.data.Dataset.from_tensor_slices({'building_material': pred_ndarray['building_material'], \n",
    "                                                   'city': pred_ndarray['city'], \n",
    "                                                   'total_floor': pred_ndarray['total_floor'],\n",
    "                                                   'building_type': pred_ndarray['building_type'],\n",
    "                                                   'building_use': pred_ndarray['building_use'],\n",
    "                                                   'parking_way': pred_ndarray['parking_way'], #6\n",
    "                                                   'parking_area': pred_ndarray['parking_area'],\n",
    "                                                   'parking_price': pred_ndarray['parking_price'],\n",
    "                                                   'txn_floor': pred_ndarray['txn_floor'],\n",
    "                                                   'land_area': pred_ndarray['land_area'],\n",
    "                                                   'building_area': pred_ndarray['building_area'],\n",
    "                                                   'town': pred_ndarray['town'],\n",
    "                                                   'lat': pred_ndarray['lat'],\n",
    "                                                   'lon': pred_ndarray['lon'], #14\n",
    "                                                   'village_income_median': pred_ndarray['village_income_median'],\n",
    "                                                   'town_population': pred_ndarray['town_population'],\n",
    "                                                   'town_area': pred_ndarray['town_area'],\n",
    "                                                   'town_population_density': pred_ndarray['town_population_density'],\n",
    "                                                   'doc_rate': pred_ndarray['doc_rate'],\n",
    "                                                   'master_rate': pred_ndarray['master_rate'],\n",
    "                                                   'bachelor_rate': pred_ndarray['bachelor_rate'],\n",
    "                                                   'jobschool_rate': pred_ndarray['jobschool_rate'], #22\n",
    "                                                   'highschool_rate': pred_ndarray['highschool_rate'],\n",
    "                                                   'junior_rate': pred_ndarray['junior_rate'],\n",
    "                                                   'elementary_rate': pred_ndarray['elementary_rate'],\n",
    "                                                   'born_rate': pred_ndarray['born_rate'],\n",
    "                                                   'death_rate': pred_ndarray['death_rate'],\n",
    "                                                   'marriage_rate': pred_ndarray['marriage_rate'],\n",
    "                                                   'divorce_rate': pred_ndarray['divorce_rate'],\n",
    "                                                   'village': pred_ndarray['village'], #30\n",
    "                                                  })\n",
    "    # Batch the examples\n",
    "    dataset = _dataset.batch(32)\n",
    "    \n",
    "    return dataset"
   ]
  },
  {
   "cell_type": "code",
   "execution_count": 66,
   "metadata": {},
   "outputs": [
    {
     "name": "stdout",
     "output_type": "stream",
     "text": [
      "INFO:tensorflow:Using default config.\n",
      "WARNING:tensorflow:Using temporary folder as model directory: /var/folders/0q/_btb7f211tx6vcv4w1mntbyc0000gn/T/tmp8cs0mrv5\n",
      "INFO:tensorflow:Using config: {'_model_dir': '/var/folders/0q/_btb7f211tx6vcv4w1mntbyc0000gn/T/tmp8cs0mrv5', '_tf_random_seed': None, '_save_summary_steps': 100, '_save_checkpoints_steps': None, '_save_checkpoints_secs': 600, '_session_config': allow_soft_placement: true\n",
      "graph_options {\n",
      "  rewrite_options {\n",
      "    meta_optimizer_iterations: ONE\n",
      "  }\n",
      "}\n",
      ", '_keep_checkpoint_max': 5, '_keep_checkpoint_every_n_hours': 10000, '_log_step_count_steps': 100, '_train_distribute': None, '_device_fn': None, '_protocol': None, '_eval_distribute': None, '_experimental_distribute': None, '_service': None, '_cluster_spec': <tensorflow.python.training.server_lib.ClusterSpec object at 0x1a521e2ef0>, '_task_type': 'worker', '_task_id': 0, '_global_id_in_cluster': 0, '_master': '', '_evaluation_master': '', '_is_chief': True, '_num_ps_replicas': 0, '_num_worker_replicas': 1}\n"
     ]
    }
   ],
   "source": [
    "# Build Model\n",
    "# Large-scale Linear Model\n",
    "\n",
    "# Estimator using the default LinearRegressor.\n",
    "estimator = tf.estimator.LinearRegressor(feature_columns=feature_cols)"
   ]
  },
  {
   "cell_type": "code",
   "execution_count": 90,
   "metadata": {},
   "outputs": [
    {
     "name": "stdout",
     "output_type": "stream",
     "text": [
      "INFO:tensorflow:Calling model_fn.\n",
      "INFO:tensorflow:Done calling model_fn.\n",
      "INFO:tensorflow:Create CheckpointSaverHook.\n",
      "INFO:tensorflow:Graph was finalized.\n",
      "INFO:tensorflow:Restoring parameters from /var/folders/0q/_btb7f211tx6vcv4w1mntbyc0000gn/T/tmp8cs0mrv5/model.ckpt-1500\n",
      "WARNING:tensorflow:From /Users/peteryoung/anaconda3/lib/python3.7/site-packages/tensorflow/python/training/saver.py:1070: get_checkpoint_mtimes (from tensorflow.python.training.checkpoint_management) is deprecated and will be removed in a future version.\n",
      "Instructions for updating:\n",
      "Use standard file utilities to get mtimes.\n",
      "INFO:tensorflow:Running local_init_op.\n",
      "INFO:tensorflow:Done running local_init_op.\n",
      "INFO:tensorflow:Saving checkpoints for 1500 into /var/folders/0q/_btb7f211tx6vcv4w1mntbyc0000gn/T/tmp8cs0mrv5/model.ckpt.\n",
      "INFO:tensorflow:loss = 4009821500000000.0, step = 1501\n",
      "INFO:tensorflow:global_step/sec: 124.114\n",
      "INFO:tensorflow:loss = 1.1450652e+16, step = 1601 (0.807 sec)\n",
      "INFO:tensorflow:global_step/sec: 689.575\n",
      "INFO:tensorflow:loss = 5081390300000000.0, step = 1701 (0.145 sec)\n",
      "INFO:tensorflow:global_step/sec: 705.183\n",
      "INFO:tensorflow:loss = 1.1440915e+16, step = 1801 (0.142 sec)\n",
      "INFO:tensorflow:global_step/sec: 703.636\n",
      "INFO:tensorflow:loss = 4.2307236e+16, step = 1901 (0.142 sec)\n",
      "INFO:tensorflow:global_step/sec: 719.201\n",
      "INFO:tensorflow:loss = 6.495813e+16, step = 2001 (0.139 sec)\n",
      "INFO:tensorflow:global_step/sec: 712.499\n",
      "INFO:tensorflow:loss = 4142738600000000.0, step = 2101 (0.141 sec)\n",
      "INFO:tensorflow:global_step/sec: 703.097\n",
      "INFO:tensorflow:loss = 3745048800000000.0, step = 2201 (0.142 sec)\n",
      "INFO:tensorflow:global_step/sec: 700.761\n",
      "INFO:tensorflow:loss = 5234057000000000.0, step = 2301 (0.143 sec)\n",
      "INFO:tensorflow:Saving checkpoints for 2400 into /var/folders/0q/_btb7f211tx6vcv4w1mntbyc0000gn/T/tmp8cs0mrv5/model.ckpt.\n",
      "INFO:tensorflow:Loss for final step: 5595569000000000.0.\n"
     ]
    },
    {
     "data": {
      "text/plain": [
       "<tensorflow_estimator.python.estimator.canned.linear.LinearRegressor at 0x1a521e2ac8>"
      ]
     },
     "execution_count": 90,
     "metadata": {},
     "output_type": "execute_result"
    }
   ],
   "source": [
    "# Train Model\n",
    "estimator.train(input_fn=train_input, steps=900)"
   ]
  },
  {
   "cell_type": "code",
   "execution_count": 91,
   "metadata": {},
   "outputs": [
    {
     "name": "stdout",
     "output_type": "stream",
     "text": [
      "INFO:tensorflow:Calling model_fn.\n",
      "INFO:tensorflow:Done calling model_fn.\n",
      "INFO:tensorflow:Starting evaluation at 2019-05-22T14:40:29Z\n",
      "INFO:tensorflow:Graph was finalized.\n",
      "INFO:tensorflow:Restoring parameters from /var/folders/0q/_btb7f211tx6vcv4w1mntbyc0000gn/T/tmp8cs0mrv5/model.ckpt-2400\n",
      "INFO:tensorflow:Running local_init_op.\n",
      "INFO:tensorflow:Done running local_init_op.\n",
      "INFO:tensorflow:Finished evaluation at 2019-05-22-14:40:33\n",
      "INFO:tensorflow:Saving dict for global step 2400: average_loss = 3264692200000000.0, global_step = 2400, label/mean = 12891435.0, loss = 1.0447015e+17, prediction/mean = 198.6095\n",
      "INFO:tensorflow:Saving 'checkpoint_path' summary for global step 2400: /var/folders/0q/_btb7f211tx6vcv4w1mntbyc0000gn/T/tmp8cs0mrv5/model.ckpt-2400\n",
      "INFO:tensorflow:Calling model_fn.\n",
      "INFO:tensorflow:Done calling model_fn.\n",
      "INFO:tensorflow:Starting evaluation at 2019-05-22T14:40:34Z\n",
      "INFO:tensorflow:Graph was finalized.\n",
      "INFO:tensorflow:Restoring parameters from /var/folders/0q/_btb7f211tx6vcv4w1mntbyc0000gn/T/tmp8cs0mrv5/model.ckpt-2400\n",
      "INFO:tensorflow:Running local_init_op.\n",
      "INFO:tensorflow:Done running local_init_op.\n",
      "INFO:tensorflow:Finished evaluation at 2019-05-22-14:40:35\n",
      "INFO:tensorflow:Saving dict for global step 2400: average_loss = 3026608700000000.0, global_step = 2400, label/mean = 13120618.0, loss = 9.685148e+16, prediction/mean = 198.56505\n",
      "INFO:tensorflow:Saving 'checkpoint_path' summary for global step 2400: /var/folders/0q/_btb7f211tx6vcv4w1mntbyc0000gn/T/tmp8cs0mrv5/model.ckpt-2400\n"
     ]
    }
   ],
   "source": [
    "# Evaluate Model\n",
    "train_eval = estimator.evaluate(input_fn=train_input)\n",
    "test_eval = estimator.evaluate(input_fn=val_input)"
   ]
  },
  {
   "cell_type": "code",
   "execution_count": 92,
   "metadata": {},
   "outputs": [
    {
     "name": "stdout",
     "output_type": "stream",
     "text": [
      "average_loss: 3026608700000000.0\n",
      "global_step: 2400\n",
      "label/mean: 13120618.0\n",
      "loss: 9.685148e+16\n",
      "prediction/mean: 198.56505\n"
     ]
    }
   ],
   "source": [
    "# Print the stats for the evaluation.\n",
    "for key in sorted(test_eval):\n",
    "    print(\"%s: %s\" % (key, test_eval[key]))"
   ]
  },
  {
   "cell_type": "code",
   "execution_count": 93,
   "metadata": {},
   "outputs": [],
   "source": [
    "# Prediction\n",
    "preds = estimator.predict(input_fn=pred_input)"
   ]
  },
  {
   "cell_type": "code",
   "execution_count": 94,
   "metadata": {},
   "outputs": [
    {
     "name": "stdout",
     "output_type": "stream",
     "text": [
      "INFO:tensorflow:Calling model_fn.\n",
      "INFO:tensorflow:Done calling model_fn.\n",
      "INFO:tensorflow:Graph was finalized.\n",
      "INFO:tensorflow:Restoring parameters from /var/folders/0q/_btb7f211tx6vcv4w1mntbyc0000gn/T/tmp8cs0mrv5/model.ckpt-2400\n",
      "INFO:tensorflow:Running local_init_op.\n",
      "INFO:tensorflow:Done running local_init_op.\n"
     ]
    }
   ],
   "source": [
    "# Convert to numpy array\n",
    "predictions = np.array([item['predictions'][0] for item in preds])"
   ]
  },
  {
   "cell_type": "code",
   "execution_count": 95,
   "metadata": {},
   "outputs": [
    {
     "name": "stdout",
     "output_type": "stream",
     "text": [
      "predictions.shape: (10000,)\n",
      "predictions: [2005998.5 1827454.  4372266.  ... 3218963.  6769064.  3030063.2]\n"
     ]
    }
   ],
   "source": [
    "print ('predictions.shape:', predictions.shape)\n",
    "print ('predictions:', predictions)"
   ]
  },
  {
   "cell_type": "code",
   "execution_count": 96,
   "metadata": {},
   "outputs": [],
   "source": [
    "# Output answer\n",
    "pred_df = pd.DataFrame(np.array(predictions), columns=['total_price'])\n",
    "ans_df = pd.merge(submit_test_df['building_id'].to_frame(), pred_df, left_index=True, right_index=True, how='outer')\n",
    "ans_df.to_csv(\"dataset/submit_test_4.csv\",sep=',',index=False,encoding='UTF-8')"
   ]
  }
 ],
 "metadata": {
  "kernelspec": {
   "display_name": "Python 3",
   "language": "python",
   "name": "python3"
  },
  "language_info": {
   "codemirror_mode": {
    "name": "ipython",
    "version": 3
   },
   "file_extension": ".py",
   "mimetype": "text/x-python",
   "name": "python",
   "nbconvert_exporter": "python",
   "pygments_lexer": "ipython3",
   "version": "3.7.0"
  }
 },
 "nbformat": 4,
 "nbformat_minor": 2
}
