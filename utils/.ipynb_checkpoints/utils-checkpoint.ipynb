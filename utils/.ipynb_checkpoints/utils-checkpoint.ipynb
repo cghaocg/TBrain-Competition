{
 "cells": [
  {
   "cell_type": "code",
   "execution_count": 2,
   "metadata": {},
   "outputs": [],
   "source": [
    "import os\n",
    "import re\n",
    "import numpy as np\n",
    "import pandas as pd\n",
    "\n",
    "# 取得 submit 檔最大值的下一個數字\n",
    "def getMaxFileNum():\n",
    "    max = 0\n",
    "    for f in os.listdir(\"../submit\"):\n",
    "        fileNum = re.findall('\\d+', f)\n",
    "        if len(fileNum):\n",
    "            if int(fileNum[0]) > max:\n",
    "                max = int(fileNum[0])\n",
    "    return str(max + 1)"
   ]
  }
 ],
 "metadata": {
  "kernelspec": {
   "display_name": "Python 3",
   "language": "python",
   "name": "python3"
  },
  "language_info": {
   "codemirror_mode": {
    "name": "ipython",
    "version": 3
   },
   "file_extension": ".py",
   "mimetype": "text/x-python",
   "name": "python",
   "nbconvert_exporter": "python",
   "pygments_lexer": "ipython3",
   "version": "3.7.0"
  }
 },
 "nbformat": 4,
 "nbformat_minor": 2
}
