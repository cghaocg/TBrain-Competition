{
 "cells": [
  {
   "cell_type": "code",
   "execution_count": 2,
   "metadata": {},
   "outputs": [],
   "source": [
    "import numpy as np\n",
    "import pandas as pd\n",
    "import tensorflow as tf\n",
    "import matplotlib.pyplot as plt\n",
    "import scipy\n",
    "import pickle\n",
    "import xgboost as xgb\n",
    "from sklearn.model_selection import train_test_split\n",
    "from sklearn.metrics import mean_squared_error\n",
    "from sklearn.utils import shuffle\n",
    "from sklearn import preprocessing\n",
    "from sklearn.feature_selection import SelectPercentile, f_regression\n",
    "from matplotlib import pyplot\n",
    "from time import time, strftime, localtime"
   ]
  },
  {
   "cell_type": "code",
   "execution_count": 5,
   "metadata": {},
   "outputs": [],
   "source": [
    "### Load data\n",
    "train_df = pd.read_csv(\"../dataset/train.csv\")\n",
    "test_df = pd.read_csv(\"../dataset/test.csv\")\n",
    "submit_test_df = pd.read_csv(\"../dataset/submit_test.csv\")\n",
    "\n",
    "### Split data & process missing value\n",
    "train_fillna_df = train_df.iloc[:,1:-1].fillna(value=0.0)\n",
    "test_fillna_df = test_df.iloc[:,1:].fillna(value=0.0)\n",
    "all_fillna_df = pd.concat((train_fillna_df, test_fillna_df), axis = 0)\n",
    "#train_fillna_df = train_df.iloc[:,1:-1].fillna(train_df.iloc[:,1:-1].median())\n",
    "#test_fillna_df = test_df.iloc[:,1:].fillna(test_df.iloc[:,1:].median())\n",
    "#all_fillna_df = pd.concat((train_fillna_df, test_fillna_df), axis = 0)\n",
    "\n",
    "label_name = \"total_price\"\n",
    "label_df = pd.DataFrame(train_df[label_name])"
   ]
  },
  {
   "cell_type": "code",
   "execution_count": null,
   "metadata": {},
   "outputs": [],
   "source": [
    "### Plot which features are important\n",
    "\n",
    "#xgb.plot_importance(bst, max_num_features=20)\n",
    "fig, ax = plt.subplots(figsize=(500, 500))\n",
    "xgb.plot_importance(bst, ax=ax)\n",
    "pyplot.show()"
   ]
  },
  {
   "cell_type": "code",
   "execution_count": null,
   "metadata": {},
   "outputs": [],
   "source": [
    "### Drop the f score of features are under 100\n",
    "temp_train_df = train_df.iloc[:,1:-1].drop([\"doc_rate\", \"VII_50\", \"XIII_500\", \"III_5000\", \"XII_100\", \"V_5000\", \"IX_100\", \n",
    "                                            \"XI_250\", \"III_10000\", \"X_100\", \"VI_1000\", \"V_100\", \"VII_10000\", \"XIV_100\", \n",
    "                                            \"XII_5000\", \"VIII_50\", \"X_5000\", \"II_100\", \"XII_10000\", \"XIII_250\", \"IX_10000\",\n",
    "                                            \"IV_250\", \"VI_500\", \"N_500\", \"VIII_5000\", \"VII_5000\", \"XII_50\", \"III_50\",\n",
    "                                            \"IX_5000\", \"XIV_50\", \"VIII_10000\", \"master_rate\", \"N_1000\", \"II_50\", \"XI_100\",\n",
    "                                            \"V_50\", \"III_10\", \"X_10000\", \"IV_100\", \"I_100\", \"VI_250\", \"XIII_100\",\n",
    "                                            \"X_50\", \"marriage_rate\", \"XII_10\", \"IX_50\", \"highschool_rate\", \"elementary_rate\", \"II_10\",\n",
    "                                            \"bachelor_rate\", \"VIII_10\", \"junior_rate\", \"VI_100\", \"XIV_10\", \"VII_10\", \"divorce_rate\",\n",
    "                                            \"born_rate\", \"XI_50\", \"XIII_50\", \"IV_50\", \"death_rate\", \"X_index_50\", \"III_index_50\",\n",
    "                                            \"I_index_500\", \"VI_10\", \"XIV_index_50\", \"XIII_10\", \"IV_index_500\", \"IX_index_50\", \"V_10\",\n",
    "                                            \"I_index_50\", \"VII_index_50\", \"V_index_50\", \"IX_10\", \"VI_50\", \"I_50\", \"IV_10\",\n",
    "                                            \"II_index_50\", \"XIII_index_500\", \"XI_index_50\", \"XI_index_1000\", \"I_index_1000\", \"VI_index_500\", \"VIII_index_50\",\n",
    "                                            \"XII_index_50\", \"II_index_500\", \"X_10\", \"N_5000\", \"XIII_index_1000\", \"XIV_index_1000\", \"VIII_index_500\",\n",
    "                                            \"IX_index_1000\", \"N_10000\", \"X_index_500\", \"IX_index_500\", \"X_index_1000\", \"IV_index_1000\", \"XIV_index_500\",\n",
    "                                            \"I_10\", \"VI_index_50\", \"XI_10\", \"XI_index_500\", \"VII_index_500\"], axis=1).fillna(value=0.0)\n",
    "\n",
    "temp_test_df = test_df.iloc[:,1:].drop([\"doc_rate\", \"VII_50\", \"XIII_500\", \"III_5000\", \"XII_100\", \"V_5000\", \"IX_100\", \n",
    "                                            \"XI_250\", \"III_10000\", \"X_100\", \"VI_1000\", \"V_100\", \"VII_10000\", \"XIV_100\", \n",
    "                                            \"XII_5000\", \"VIII_50\", \"X_5000\", \"II_100\", \"XII_10000\", \"XIII_250\", \"IX_10000\",\n",
    "                                            \"IV_250\", \"VI_500\", \"N_500\", \"VIII_5000\", \"VII_5000\", \"XII_50\", \"III_50\",\n",
    "                                            \"IX_5000\", \"XIV_50\", \"VIII_10000\", \"master_rate\", \"N_1000\", \"II_50\", \"XI_100\",\n",
    "                                            \"V_50\", \"III_10\", \"X_10000\", \"IV_100\", \"I_100\", \"VI_250\", \"XIII_100\",\n",
    "                                            \"X_50\", \"marriage_rate\", \"XII_10\", \"IX_50\", \"highschool_rate\", \"elementary_rate\", \"II_10\",\n",
    "                                            \"bachelor_rate\", \"VIII_10\", \"junior_rate\", \"VI_100\", \"XIV_10\", \"VII_10\", \"divorce_rate\",\n",
    "                                            \"born_rate\", \"XI_50\", \"XIII_50\", \"IV_50\", \"death_rate\", \"X_index_50\", \"III_index_50\",\n",
    "                                            \"I_index_500\", \"VI_10\", \"XIV_index_50\", \"XIII_10\", \"IV_index_500\", \"IX_index_50\", \"V_10\",\n",
    "                                            \"I_index_50\", \"VII_index_50\", \"V_index_50\", \"IX_10\", \"VI_50\", \"I_50\", \"IV_10\",\n",
    "                                            \"II_index_50\", \"XIII_index_500\", \"XI_index_50\", \"XI_index_1000\", \"I_index_1000\", \"VI_index_500\", \"VIII_index_50\",\n",
    "                                            \"XII_index_50\", \"II_index_500\", \"X_10\", \"N_5000\", \"XIII_index_1000\", \"XIV_index_1000\", \"VIII_index_500\",\n",
    "                                            \"IX_index_1000\", \"N_10000\", \"X_index_500\", \"IX_index_500\", \"X_index_1000\", \"IV_index_1000\", \"XIV_index_500\",\n",
    "                                            \"I_10\", \"VI_index_50\", \"XI_10\", \"XI_index_500\", \"VII_index_500\"], axis=1).fillna(value=0.0)\n",
    "\n",
    "all_process_df = pd.concat((temp_train_df, temp_test_df), axis = 0)"
   ]
  },
  {
   "cell_type": "code",
   "execution_count": null,
   "metadata": {},
   "outputs": [],
   "source": [
    "### Select features\n",
    "\n",
    "# select percentile\n",
    "train_selection = SelectPercentile(f_regression, percentile=95)\n",
    "train_selection_df = pd.DataFrame(train_selection.fit_transform(train_fillna_df, label_df))\n",
    "\n",
    "print(\"train_selection_df.shape:\", train_selection_df.shape)\n",
    "\n",
    "features = np.asarray(train_fillna_df.columns.values)\n",
    "support = np.asarray(train_selection.get_support())\n",
    "\n",
    "# get preserved features name\n",
    "selected_features_name = features[support]\n",
    "print(selected_features_name)\n",
    "\n",
    "all_selection_df = all_fillna_df[selected_features_name]"
   ]
  },
  {
   "cell_type": "code",
   "execution_count": 7,
   "metadata": {},
   "outputs": [
    {
     "name": "stdout",
     "output_type": "stream",
     "text": [
      "count    60000.000000\n",
      "mean         6.668473\n",
      "std          0.989935\n",
      "min          5.870000\n",
      "25%          5.930000\n",
      "50%          6.120000\n",
      "75%          7.720000\n",
      "max         10.400000\n",
      "Name: death_rate, dtype: float64\n",
      "AxesSubplot(0.125,0.125;0.775x0.755)\n",
      "shape: (1297, 233)\n"
     ]
    },
    {
     "data": {
      "image/png": "[encoded data removed]",
      "text/plain": [
       "<Figure size 432x288 with 1 Axes>"
      ]
     },
     "metadata": {
      "needs_background": "light"
     },
     "output_type": "display_data"
    }
   ],
   "source": [
    "### 觀察資料\n",
    "\n",
    "column_num = 28\n",
    "column_name = \"death_rate\"\n",
    "print(train_fillna_df[column_name].describe())\n",
    "print(train_fillna_df[column_name].hist())\n",
    "\n",
    "print(\"shape:\", train_fillna_df[train_fillna_df.town_population_density > 30000 ].shape)"
   ]
  },
  {
   "cell_type": "code",
   "execution_count": null,
   "metadata": {},
   "outputs": [],
   "source": [
    "### Remove outliers\n",
    "\n",
    "train_remove_outlier_df = pd.concat((train_fillna_df, label_df), axis=1)\n",
    "#train_remove_outlier_df = train_remove_outlier_df[train_fillna_df.total_floor <= 16]\n",
    "#print(train_remove_outlier_df.shape)\n",
    "#train_remove_outlier_df = train_remove_outlier_df[train_remove_outlier_df.txn_floor <= 12]\n",
    "#print(train_remove_outlier_df.shape)\n",
    "#train_remove_outlier_df = train_remove_outlier_df[train_remove_outlier_df.building_material > 2]\n",
    "#print(train_remove_outlier_df.shape)\n",
    "train_remove_outlier_df = train_remove_outlier_df[train_remove_outlier_df.building_use <= 4]\n",
    "print(train_remove_outlier_df.shape)\n",
    "train_remove_outlier_df = train_remove_outlier_df[train_remove_outlier_df.village_income_median != 0]\n",
    "#train_remove_outlier_df = train_remove_outlier_df[train_remove_outlier_df.village_income_median <= 900]\n",
    "print(train_remove_outlier_df.shape)\n",
    "train_remove_outlier_df = train_remove_outlier_df[train_remove_outlier_df.town_area <= 150]\n",
    "print(train_remove_outlier_df.shape)\n",
    "train_remove_outlier_df = train_remove_outlier_df[train_remove_outlier_df.town_population_density <= 35000]\n",
    "print(train_remove_outlier_df.shape)\n",
    "#train_remove_outlier_df = train_remove_outlier_df[train_remove_outlier_df.death_rate <= 8]\n",
    "#print(train_remove_outlier_df.shape) #8\n",
    "\n",
    "### Split x and y\n",
    "label_remove_outliers_df = pd.DataFrame(train_remove_outlier_df[label_name])\n",
    "train_remove_outlier_df = train_remove_outlier_df.iloc[:,:-1]\n",
    "print(\"label_remove_outliers_df.shape:\", label_remove_outliers_df.shape)\n",
    "print(\"train_remove_outlier_df.shape:\", train_remove_outlier_df.shape)"
   ]
  },
  {
   "cell_type": "code",
   "execution_count": null,
   "metadata": {},
   "outputs": [],
   "source": [
    "### Drop no need features\n",
    "\n",
    "#all_drop_df = after_train_remove_outlier.iloc[:,0:32].drop(\n",
    "#   [\"town\", \"village\", \"parking_area\", \"parking_price\", \"land_area\", \"building_area\"], axis=1)\n",
    "#all_drop_df = after_train_remove_outlier.drop(\n",
    "#   [\"town\", \"village\", \"parking_area\", \"parking_price\", \"land_area\", \"building_area\"], axis=1)\n",
    "train_drop_df = train_remove_outlier_df.drop(\n",
    "   [\"town\", \"village\", \"parking_area\", \"parking_price\", \"land_area\", \"building_area\"], axis=1)\n",
    "test_drop_df = test_fillna_df.drop(\n",
    "   [\"town\", \"village\", \"parking_area\", \"parking_price\", \"land_area\", \"building_area\"], axis=1)\n",
    "\n",
    "all_process_df = pd.concat((train_drop_df, test_drop_df), axis = 0)\n",
    "print(\"all_process_df.shape:\", all_process_df.shape)"
   ]
  }
 ],
 "metadata": {
  "kernelspec": {
   "display_name": "Python 3",
   "language": "python",
   "name": "python3"
  },
  "language_info": {
   "codemirror_mode": {
    "name": "ipython",
    "version": 3
   },
   "file_extension": ".py",
   "mimetype": "text/x-python",
   "name": "python",
   "nbconvert_exporter": "python",
   "pygments_lexer": "ipython3",
   "version": "3.7.0"
  }
 },
 "nbformat": 4,
 "nbformat_minor": 2
}
