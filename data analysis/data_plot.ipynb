{
 "cells": [
  {
   "cell_type": "code",
   "execution_count": 1,
   "metadata": {},
   "outputs": [],
   "source": [
    "import numpy as np\n",
    "import pandas as pd\n",
    "import tensorflow as tf\n",
    "import matplotlib.pyplot as plt\n",
    "import scipy\n",
    "import pickle\n",
    "import xgboost as xgb\n",
    "import math\n",
    "from sklearn.model_selection import train_test_split\n",
    "from sklearn.metrics import mean_squared_error\n",
    "from sklearn.utils import shuffle\n",
    "from sklearn import preprocessing\n",
    "from sklearn.feature_selection import SelectPercentile, f_regression\n",
    "from time import time, strftime, localtime"
   ]
  },
  {
   "cell_type": "code",
   "execution_count": 2,
   "metadata": {},
   "outputs": [],
   "source": [
    "# Load data\n",
    "train_df = pd.read_csv(\"../dataset/train.csv\")\n",
    "test_df = pd.read_csv(\"../dataset/test.csv\")\n",
    "submit_test_df = pd.read_csv(\"../dataset/submit_test.csv\")"
   ]
  },
  {
   "cell_type": "code",
   "execution_count": 3,
   "metadata": {},
   "outputs": [],
   "source": [
    "# Split data & process missing value\n",
    "\n",
    "# Fill nan with \"0.0\"\n",
    "train_fillna_df = train_df.iloc[:,1:-1].fillna(value=0.0)\n",
    "test_fillna_df = test_df.iloc[:,1:].fillna(value=0.0)\n",
    "all_fillna_df = pd.concat((train_fillna_df, test_fillna_df), axis = 0)\n",
    "\n",
    "# Fill nan with \"median\"\n",
    "#train_fillna_df = train_df.iloc[:,1:-1].fillna(train_df.iloc[:,1:-1].median())\n",
    "#test_fillna_df = test_df.iloc[:,1:].fillna(test_df.iloc[:,1:].median())\n",
    "#all_fillna_df = pd.concat((train_fillna_df, test_fillna_df), axis = 0)\n",
    "\n",
    "label_name = \"total_price\"\n",
    "label_df = pd.DataFrame(train_df[label_name])"
   ]
  },
  {
   "cell_type": "code",
   "execution_count": 30,
   "metadata": {},
   "outputs": [
    {
     "name": "stderr",
     "output_type": "stream",
     "text": [
      "/Users/peteryoung/anaconda3/lib/python3.7/site-packages/ipykernel_launcher.py:8: SettingWithCopyWarning: \n",
      "A value is trying to be set on a copy of a slice from a DataFrame\n",
      "\n",
      "See the caveats in the documentation: http://pandas.pydata.org/pandas-docs/stable/indexing.html#indexing-view-versus-copy\n",
      "  \n"
     ]
    }
   ],
   "source": [
    "# Create features\n",
    "# [house_age: the age of house on purchased date, ((成交日 - 完工日) / 365) ((txn_dt - building_complete_dt) / 365)]\n",
    "all_createCol_df = all_fillna_df.assign(house_age = round((all_fillna_df[\"txn_dt\"] - all_fillna_df[\"building_complete_dt\"]) / 3650, 0))\n",
    "# [txn_year: the year of trade, 成交日 / 365, txn_dt / 365]\n",
    "all_createCol_df = all_createCol_df.assign(txn_year = round((all_fillna_df[\"txn_dt\"] / 365), 0))\n",
    "# [floor_of_building: floor of building, 交易樓層 / 總樓層(txn_floor / total_floor)]，如 txn_floor 為 0，代表建物不為一層，以總樓層帶入\n",
    "all_createCol_df = all_createCol_df.assign(floor_of_building = all_fillna_df[\"txn_floor\"] / all_fillna_df[\"total_floor\"])\n",
    "all_createCol_df[\"floor_of_building\"][all_createCol_df[\"txn_floor\"] == 0] = all_fillna_df[\"total_floor\"]"
   ]
  },
  {
   "cell_type": "code",
   "execution_count": 31,
   "metadata": {},
   "outputs": [],
   "source": [
    "inf = float(\"inf\")\n",
    "\n",
    "# [sales_per_unit_area 坪效: 一坪土地可蓋出多少坪可銷售面積, (建物面積 / 土地面積), (building_area / land_area)]\n",
    "all_createCol_df = all_createCol_df.assign(sales_per_unit_area = round(all_createCol_df[\"building_area\"] / all_createCol_df[\"land_area\"], 1))\n",
    "all_createCol_df[\"sales_per_unit_area\"][all_createCol_df[\"sales_per_unit_area\"] == inf] = all_createCol_df[\"sales_per_unit_area\"].median()\n",
    "\n",
    "# [power_pos_rate 強化正相關率: 將會提高房價的因素加總，再減會減低房價的因素, (所在縣市出生率 + 所在縣市結婚率 - 所在縣市死亡率), (born_rate + marriage_rate - death_rate)]\n",
    "all_createCol_df = all_createCol_df.assign(power_pos_rate = all_createCol_df[\"born_rate\"] + all_createCol_df[\"marriage_rate\"] - all_createCol_df[\"death_rate\"])\n",
    "all_createCol_df = all_fillna_df.assign(power_pos_rate = all_fillna_df[\"born_rate\"] + all_fillna_df[\"marriage_rate\"] - all_fillna_df[\"death_rate\"])\n",
    "\n",
    "# [high_edu_rate 各縣市高學歷率: 各縣市的高學歷加總比率(大學含以上)]\n",
    "all_createCol_df = all_createCol_df.assign(high_edu_rate = round(all_createCol_df[\"doc_rate\"] + all_createCol_df[\"master_rate\"] + all_createCol_df[\"bachelor_rate\"], 3))\n",
    "\n",
    "# [low_edu_rate 各縣市低學歷率: 各縣市的低學歷加總比率(專科+高中含以下)]\n",
    "all_createCol_df = all_createCol_df.assign(low_edu_rate = round(all_createCol_df[\"jobschool_rate\"] + all_createCol_df[\"highschool_rate\"] + all_createCol_df[\"junior_rate\"] + all_createCol_df[\"elementary_rate\"], 3))\n",
    "\n",
    "# [is_apartment_first_top 是否為公寓的一樓跟頂樓: 公寓的一樓跟頂樓最貴]\n",
    "all_createCol_df = all_createCol_df.assign(is_apartment_first_top = 0.0)\n",
    "all_createCol_df[\"is_apartment_first_top\"][(all_createCol_df[\"building_type\"] == 1) & ((all_createCol_df[\"txn_floor\"] == 1) |  (all_createCol_df[\"txn_floor\"] == all_createCol_df[\"total_floor\"]))] = 1\n",
    "\n",
    "# [is_0_3_high_floor 是否為電梯大樓、華廈的高樓層(7樓以上): 樓層越高越貴]\n",
    "all_createCol_df = all_createCol_df.assign(is_0_3_high_floor = 0.0)\n",
    "all_createCol_df[\"is_0_3_high_floor\"][((all_createCol_df[\"building_type\"] == 0) | (all_createCol_df[\"building_type\"] == 3)) & (all_createCol_df[\"txn_floor\"] >= 7)] = 1\n",
    "\n",
    "# [_0_3_high_floor_rate 電梯大樓、華廈的高樓層高度比率(7樓以上): 樓層越高越貴]\n",
    "all_createCol_df = all_createCol_df.assign(_0_3_high_floor_rate = 0.0)\n",
    "all_createCol_df[\"_0_3_high_floor_rate\"][((all_createCol_df[\"building_type\"] == 0) | (all_createCol_df[\"building_type\"] == 3)) & (all_createCol_df[\"txn_floor\"] >= 7)] = (all_fillna_df[\"txn_floor\"] / all_fillna_df[\"total_floor\"])"
   ]
  },
  {
   "cell_type": "code",
   "execution_count": 42,
   "metadata": {},
   "outputs": [
    {
     "data": {
      "text/plain": [
       "0    0.000000\n",
       "1    0.000000\n",
       "2    0.000000\n",
       "3    0.541667\n",
       "4    0.000000\n",
       "Name: _0_3_high_floor_rate, dtype: float64"
      ]
     },
     "execution_count": 42,
     "metadata": {},
     "output_type": "execute_result"
    }
   ],
   "source": [
    "all_createCol_df[\"_0_3_high_floor_rate\"].head()"
   ]
  },
  {
   "cell_type": "code",
   "execution_count": 38,
   "metadata": {},
   "outputs": [
    {
     "data": {
      "text/plain": [
       "array([[<matplotlib.axes._subplots.AxesSubplot object at 0x1a31fae3c8>]],\n",
       "      dtype=object)"
      ]
     },
     "execution_count": 38,
     "metadata": {},
     "output_type": "execute_result"
    },
    {
     "data": {
      "image/png": "[encoded data removed]",
      "text/plain": [
       "<Figure size 432x288 with 1 Axes>"
      ]
     },
     "metadata": {
      "needs_background": "light"
     },
     "output_type": "display_data"
    }
   ],
   "source": [
    "all_createCol_df[[\"is_0_3_high_floor\"]].hist()"
   ]
  },
  {
   "cell_type": "code",
   "execution_count": 109,
   "metadata": {},
   "outputs": [
    {
     "data": {
      "image/png": "[encoded data removed]",
      "text/plain": [
       "<Figure size 432x288 with 1 Axes>"
      ]
     },
     "metadata": {
      "needs_background": "light"
     },
     "output_type": "display_data"
    }
   ],
   "source": [
    "# the histogram of the data\n",
    "x_array = train_df[\"total_price\"]\n",
    "n, bins, patches = plt.hist(x_array, 30, density=False, facecolor='r', alpha=0.75, range = (226149.5, 50882790))"
   ]
  },
  {
   "cell_type": "code",
   "execution_count": 136,
   "metadata": {},
   "outputs": [
    {
     "data": {
      "text/plain": [
       "[<matplotlib.lines.Line2D at 0x1a37952828>]"
      ]
     },
     "execution_count": 136,
     "metadata": {},
     "output_type": "execute_result"
    },
    {
     "data": {
      "image/png": "[encoded data removed]",
      "text/plain": [
       "<Figure size 432x288 with 1 Axes>"
      ]
     },
     "metadata": {
      "needs_background": "light"
     },
     "output_type": "display_data"
    }
   ],
   "source": [
    "plt.plot(np.arange(1,60001),x_array, color='green', linestyle='solid', linewidth=2)"
   ]
  },
  {
   "cell_type": "code",
   "execution_count": 81,
   "metadata": {},
   "outputs": [
    {
     "data": {
      "text/plain": [
       "count    70000.000000\n",
       "mean         2.310157\n",
       "std          1.242203\n",
       "min          0.000000\n",
       "25%          1.000000\n",
       "50%          2.000000\n",
       "75%          3.000000\n",
       "max          5.000000\n",
       "Name: house_age, dtype: float64"
      ]
     },
     "execution_count": 81,
     "metadata": {},
     "output_type": "execute_result"
    }
   ],
   "source": [
    "all_createCol_df[\"house_age\"].describe()"
   ]
  }
 ],
 "metadata": {
  "kernelspec": {
   "display_name": "Python 3",
   "language": "python",
   "name": "python3"
  },
  "language_info": {
   "codemirror_mode": {
    "name": "ipython",
    "version": 3
   },
   "file_extension": ".py",
   "mimetype": "text/x-python",
   "name": "python",
   "nbconvert_exporter": "python",
   "pygments_lexer": "ipython3",
   "version": "3.7.0"
  }
 },
 "nbformat": 4,
 "nbformat_minor": 2
}
